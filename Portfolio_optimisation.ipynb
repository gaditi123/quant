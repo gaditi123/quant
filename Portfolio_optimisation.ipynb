{
  "nbformat": 4,
  "nbformat_minor": 0,
  "metadata": {
    "colab": {
      "name": "Portfolio_optimisation.ipynb",
      "provenance": [],
      "authorship_tag": "ABX9TyPVBwPex5qYdrunQv6e69h6",
      "include_colab_link": true
    },
    "kernelspec": {
      "name": "python3",
      "display_name": "Python 3"
    },
    "language_info": {
      "name": "python"
    }
  },
  "cells": [
    {
      "cell_type": "markdown",
      "metadata": {
        "id": "view-in-github",
        "colab_type": "text"
      },
      "source": [
        "<a href=\"https://colab.research.google.com/github/gaditi123/quant/blob/main/Portfolio_optimisation.ipynb\" target=\"_parent\"><img src=\"https://colab.research.google.com/assets/colab-badge.svg\" alt=\"Open In Colab\"/></a>"
      ]
    },
    {
      "cell_type": "code",
      "metadata": {
        "id": "ozS3pIRxMH0l"
      },
      "source": [
        "!pip install quandl"
      ],
      "execution_count": null,
      "outputs": []
    },
    {
      "cell_type": "code",
      "metadata": {
        "id": "XVykHg9WL8DM"
      },
      "source": [
        "import pandas as pd\n",
        "import quandl\n",
        "import numpy as np\n",
        "import matplotlib.pyplot as plt\n",
        "%matplotlib inline"
      ],
      "execution_count": 19,
      "outputs": []
    },
    {
      "cell_type": "code",
      "metadata": {
        "id": "CXlha_wvMAf3"
      },
      "source": [
        "start = pd.to_datetime('2017-01-01')\n",
        "end = pd.to_datetime('2021-01-01')"
      ],
      "execution_count": 6,
      "outputs": []
    },
    {
      "cell_type": "code",
      "metadata": {
        "id": "YR248L2jMC7l"
      },
      "source": [
        "aapl = quandl.get('WIKI/AAPL.11',start_date = start,                  end_date = end)\n",
        "cisco = quandl.get('WIKI/CSCO.11',                   start_date = start,                   end_date = end)\n",
        "ibm = quandl.get('WIKI/IBM.11',                 start_date = start,                 end_date = end)\n",
        "amzn = quandl.get('WIKI/AMZN.11',                  start_date = start,                  end_date = end)"
      ],
      "execution_count": 7,
      "outputs": []
    },
    {
      "cell_type": "code",
      "metadata": {
        "colab": {
          "base_uri": "https://localhost:8080/",
          "height": 237
        },
        "id": "2lOcYF5BMC1b",
        "outputId": "c7dc541f-ab58-42f6-dcae-ffbf5747e747"
      },
      "source": [
        "aapl.head()"
      ],
      "execution_count": 9,
      "outputs": [
        {
          "output_type": "execute_result",
          "data": {
            "text/html": [
              "<div>\n",
              "<style scoped>\n",
              "    .dataframe tbody tr th:only-of-type {\n",
              "        vertical-align: middle;\n",
              "    }\n",
              "\n",
              "    .dataframe tbody tr th {\n",
              "        vertical-align: top;\n",
              "    }\n",
              "\n",
              "    .dataframe thead th {\n",
              "        text-align: right;\n",
              "    }\n",
              "</style>\n",
              "<table border=\"1\" class=\"dataframe\">\n",
              "  <thead>\n",
              "    <tr style=\"text-align: right;\">\n",
              "      <th></th>\n",
              "      <th>Adj. Close</th>\n",
              "    </tr>\n",
              "    <tr>\n",
              "      <th>Date</th>\n",
              "      <th></th>\n",
              "    </tr>\n",
              "  </thead>\n",
              "  <tbody>\n",
              "    <tr>\n",
              "      <th>2017-01-03</th>\n",
              "      <td>114.715378</td>\n",
              "    </tr>\n",
              "    <tr>\n",
              "      <th>2017-01-04</th>\n",
              "      <td>114.586983</td>\n",
              "    </tr>\n",
              "    <tr>\n",
              "      <th>2017-01-05</th>\n",
              "      <td>115.169696</td>\n",
              "    </tr>\n",
              "    <tr>\n",
              "      <th>2017-01-06</th>\n",
              "      <td>116.453639</td>\n",
              "    </tr>\n",
              "    <tr>\n",
              "      <th>2017-01-09</th>\n",
              "      <td>117.520300</td>\n",
              "    </tr>\n",
              "  </tbody>\n",
              "</table>\n",
              "</div>"
            ],
            "text/plain": [
              "            Adj. Close\n",
              "Date                  \n",
              "2017-01-03  114.715378\n",
              "2017-01-04  114.586983\n",
              "2017-01-05  115.169696\n",
              "2017-01-06  116.453639\n",
              "2017-01-09  117.520300"
            ]
          },
          "metadata": {
            "tags": []
          },
          "execution_count": 9
        }
      ]
    },
    {
      "cell_type": "code",
      "metadata": {
        "id": "dAYdq0RuMTzX"
      },
      "source": [
        "stocks = pd.concat([aapl, cisco, ibm, amzn],axis = 1)\n",
        "stocks.columns = ['aapl','cisco','ibm','amzn']"
      ],
      "execution_count": 10,
      "outputs": []
    },
    {
      "cell_type": "code",
      "metadata": {
        "colab": {
          "base_uri": "https://localhost:8080/",
          "height": 237
        },
        "id": "HLwT8VIvMeOo",
        "outputId": "c20902d8-d902-45a5-f7cf-dae6ff63ad32"
      },
      "source": [
        "stocks.head()"
      ],
      "execution_count": 11,
      "outputs": [
        {
          "output_type": "execute_result",
          "data": {
            "text/html": [
              "<div>\n",
              "<style scoped>\n",
              "    .dataframe tbody tr th:only-of-type {\n",
              "        vertical-align: middle;\n",
              "    }\n",
              "\n",
              "    .dataframe tbody tr th {\n",
              "        vertical-align: top;\n",
              "    }\n",
              "\n",
              "    .dataframe thead th {\n",
              "        text-align: right;\n",
              "    }\n",
              "</style>\n",
              "<table border=\"1\" class=\"dataframe\">\n",
              "  <thead>\n",
              "    <tr style=\"text-align: right;\">\n",
              "      <th></th>\n",
              "      <th>aapl</th>\n",
              "      <th>cisco</th>\n",
              "      <th>ibm</th>\n",
              "      <th>amzn</th>\n",
              "    </tr>\n",
              "    <tr>\n",
              "      <th>Date</th>\n",
              "      <th></th>\n",
              "      <th></th>\n",
              "      <th></th>\n",
              "      <th></th>\n",
              "    </tr>\n",
              "  </thead>\n",
              "  <tbody>\n",
              "    <tr>\n",
              "      <th>2017-01-03</th>\n",
              "      <td>114.715378</td>\n",
              "      <td>29.484966</td>\n",
              "      <td>160.939852</td>\n",
              "      <td>753.67</td>\n",
              "    </tr>\n",
              "    <tr>\n",
              "      <th>2017-01-04</th>\n",
              "      <td>114.586983</td>\n",
              "      <td>29.311184</td>\n",
              "      <td>162.932468</td>\n",
              "      <td>757.18</td>\n",
              "    </tr>\n",
              "    <tr>\n",
              "      <th>2017-01-05</th>\n",
              "      <td>115.169696</td>\n",
              "      <td>29.379349</td>\n",
              "      <td>162.393403</td>\n",
              "      <td>780.45</td>\n",
              "    </tr>\n",
              "    <tr>\n",
              "      <th>2017-01-06</th>\n",
              "      <td>116.453639</td>\n",
              "      <td>29.437777</td>\n",
              "      <td>163.192375</td>\n",
              "      <td>795.99</td>\n",
              "    </tr>\n",
              "    <tr>\n",
              "      <th>2017-01-09</th>\n",
              "      <td>117.520300</td>\n",
              "      <td>29.389087</td>\n",
              "      <td>161.382655</td>\n",
              "      <td>796.92</td>\n",
              "    </tr>\n",
              "  </tbody>\n",
              "</table>\n",
              "</div>"
            ],
            "text/plain": [
              "                  aapl      cisco         ibm    amzn\n",
              "Date                                                 \n",
              "2017-01-03  114.715378  29.484966  160.939852  753.67\n",
              "2017-01-04  114.586983  29.311184  162.932468  757.18\n",
              "2017-01-05  115.169696  29.379349  162.393403  780.45\n",
              "2017-01-06  116.453639  29.437777  163.192375  795.99\n",
              "2017-01-09  117.520300  29.389087  161.382655  796.92"
            ]
          },
          "metadata": {
            "tags": []
          },
          "execution_count": 11
        }
      ]
    },
    {
      "cell_type": "code",
      "metadata": {
        "colab": {
          "base_uri": "https://localhost:8080/"
        },
        "id": "vho60J2AMgkh",
        "outputId": "1e043506-af45-4e9e-cdc4-05439bf27afa"
      },
      "source": [
        "stocks.pct_change(1).mean()"
      ],
      "execution_count": 12,
      "outputs": [
        {
          "output_type": "execute_result",
          "data": {
            "text/plain": [
              "aapl     0.001323\n",
              "cisco    0.001271\n",
              "ibm     -0.000123\n",
              "amzn     0.002332\n",
              "dtype: float64"
            ]
          },
          "metadata": {
            "tags": []
          },
          "execution_count": 12
        }
      ]
    },
    {
      "cell_type": "code",
      "metadata": {
        "colab": {
          "base_uri": "https://localhost:8080/",
          "height": 175
        },
        "id": "X02132BOMlI4",
        "outputId": "2f2585fd-7eb0-498a-dabd-10ba6fe497f9"
      },
      "source": [
        "stocks.pct_change(1).corr()"
      ],
      "execution_count": 13,
      "outputs": [
        {
          "output_type": "execute_result",
          "data": {
            "text/html": [
              "<div>\n",
              "<style scoped>\n",
              "    .dataframe tbody tr th:only-of-type {\n",
              "        vertical-align: middle;\n",
              "    }\n",
              "\n",
              "    .dataframe tbody tr th {\n",
              "        vertical-align: top;\n",
              "    }\n",
              "\n",
              "    .dataframe thead th {\n",
              "        text-align: right;\n",
              "    }\n",
              "</style>\n",
              "<table border=\"1\" class=\"dataframe\">\n",
              "  <thead>\n",
              "    <tr style=\"text-align: right;\">\n",
              "      <th></th>\n",
              "      <th>aapl</th>\n",
              "      <th>cisco</th>\n",
              "      <th>ibm</th>\n",
              "      <th>amzn</th>\n",
              "    </tr>\n",
              "  </thead>\n",
              "  <tbody>\n",
              "    <tr>\n",
              "      <th>aapl</th>\n",
              "      <td>1.000000</td>\n",
              "      <td>0.418777</td>\n",
              "      <td>0.226460</td>\n",
              "      <td>0.510797</td>\n",
              "    </tr>\n",
              "    <tr>\n",
              "      <th>cisco</th>\n",
              "      <td>0.418777</td>\n",
              "      <td>1.000000</td>\n",
              "      <td>0.389988</td>\n",
              "      <td>0.320325</td>\n",
              "    </tr>\n",
              "    <tr>\n",
              "      <th>ibm</th>\n",
              "      <td>0.226460</td>\n",
              "      <td>0.389988</td>\n",
              "      <td>1.000000</td>\n",
              "      <td>0.188926</td>\n",
              "    </tr>\n",
              "    <tr>\n",
              "      <th>amzn</th>\n",
              "      <td>0.510797</td>\n",
              "      <td>0.320325</td>\n",
              "      <td>0.188926</td>\n",
              "      <td>1.000000</td>\n",
              "    </tr>\n",
              "  </tbody>\n",
              "</table>\n",
              "</div>"
            ],
            "text/plain": [
              "           aapl     cisco       ibm      amzn\n",
              "aapl   1.000000  0.418777  0.226460  0.510797\n",
              "cisco  0.418777  1.000000  0.389988  0.320325\n",
              "ibm    0.226460  0.389988  1.000000  0.188926\n",
              "amzn   0.510797  0.320325  0.188926  1.000000"
            ]
          },
          "metadata": {
            "tags": []
          },
          "execution_count": 13
        }
      ]
    },
    {
      "cell_type": "markdown",
      "metadata": {
        "id": "XQMjDqgHMqCp"
      },
      "source": [
        "Log returns - de trending and normalising the data"
      ]
    },
    {
      "cell_type": "code",
      "metadata": {
        "colab": {
          "base_uri": "https://localhost:8080/",
          "height": 237
        },
        "id": "b2NhZGJRMpfi",
        "outputId": "595a5a3a-46a7-4478-e830-ab86d9447a8c"
      },
      "source": [
        "stocks.pct_change(1).head()"
      ],
      "execution_count": 14,
      "outputs": [
        {
          "output_type": "execute_result",
          "data": {
            "text/html": [
              "<div>\n",
              "<style scoped>\n",
              "    .dataframe tbody tr th:only-of-type {\n",
              "        vertical-align: middle;\n",
              "    }\n",
              "\n",
              "    .dataframe tbody tr th {\n",
              "        vertical-align: top;\n",
              "    }\n",
              "\n",
              "    .dataframe thead th {\n",
              "        text-align: right;\n",
              "    }\n",
              "</style>\n",
              "<table border=\"1\" class=\"dataframe\">\n",
              "  <thead>\n",
              "    <tr style=\"text-align: right;\">\n",
              "      <th></th>\n",
              "      <th>aapl</th>\n",
              "      <th>cisco</th>\n",
              "      <th>ibm</th>\n",
              "      <th>amzn</th>\n",
              "    </tr>\n",
              "    <tr>\n",
              "      <th>Date</th>\n",
              "      <th></th>\n",
              "      <th></th>\n",
              "      <th></th>\n",
              "      <th></th>\n",
              "    </tr>\n",
              "  </thead>\n",
              "  <tbody>\n",
              "    <tr>\n",
              "      <th>2017-01-03</th>\n",
              "      <td>NaN</td>\n",
              "      <td>NaN</td>\n",
              "      <td>NaN</td>\n",
              "      <td>NaN</td>\n",
              "    </tr>\n",
              "    <tr>\n",
              "      <th>2017-01-04</th>\n",
              "      <td>-0.001119</td>\n",
              "      <td>-0.005894</td>\n",
              "      <td>0.012381</td>\n",
              "      <td>0.004657</td>\n",
              "    </tr>\n",
              "    <tr>\n",
              "      <th>2017-01-05</th>\n",
              "      <td>0.005085</td>\n",
              "      <td>0.002326</td>\n",
              "      <td>-0.003309</td>\n",
              "      <td>0.030732</td>\n",
              "    </tr>\n",
              "    <tr>\n",
              "      <th>2017-01-06</th>\n",
              "      <td>0.011148</td>\n",
              "      <td>0.001989</td>\n",
              "      <td>0.004920</td>\n",
              "      <td>0.019912</td>\n",
              "    </tr>\n",
              "    <tr>\n",
              "      <th>2017-01-09</th>\n",
              "      <td>0.009160</td>\n",
              "      <td>-0.001654</td>\n",
              "      <td>-0.011089</td>\n",
              "      <td>0.001168</td>\n",
              "    </tr>\n",
              "  </tbody>\n",
              "</table>\n",
              "</div>"
            ],
            "text/plain": [
              "                aapl     cisco       ibm      amzn\n",
              "Date                                              \n",
              "2017-01-03       NaN       NaN       NaN       NaN\n",
              "2017-01-04 -0.001119 -0.005894  0.012381  0.004657\n",
              "2017-01-05  0.005085  0.002326 -0.003309  0.030732\n",
              "2017-01-06  0.011148  0.001989  0.004920  0.019912\n",
              "2017-01-09  0.009160 -0.001654 -0.011089  0.001168"
            ]
          },
          "metadata": {
            "tags": []
          },
          "execution_count": 14
        }
      ]
    },
    {
      "cell_type": "code",
      "metadata": {
        "colab": {
          "base_uri": "https://localhost:8080/",
          "height": 237
        },
        "id": "GOtdDeq9M3xT",
        "outputId": "dcc5157b-5e35-4e7f-e80e-0e6b411d1562"
      },
      "source": [
        "log_ret = np.log(stocks/stocks.shift(1))\n",
        "log_ret.head()"
      ],
      "execution_count": 17,
      "outputs": [
        {
          "output_type": "execute_result",
          "data": {
            "text/html": [
              "<div>\n",
              "<style scoped>\n",
              "    .dataframe tbody tr th:only-of-type {\n",
              "        vertical-align: middle;\n",
              "    }\n",
              "\n",
              "    .dataframe tbody tr th {\n",
              "        vertical-align: top;\n",
              "    }\n",
              "\n",
              "    .dataframe thead th {\n",
              "        text-align: right;\n",
              "    }\n",
              "</style>\n",
              "<table border=\"1\" class=\"dataframe\">\n",
              "  <thead>\n",
              "    <tr style=\"text-align: right;\">\n",
              "      <th></th>\n",
              "      <th>aapl</th>\n",
              "      <th>cisco</th>\n",
              "      <th>ibm</th>\n",
              "      <th>amzn</th>\n",
              "    </tr>\n",
              "    <tr>\n",
              "      <th>Date</th>\n",
              "      <th></th>\n",
              "      <th></th>\n",
              "      <th></th>\n",
              "      <th></th>\n",
              "    </tr>\n",
              "  </thead>\n",
              "  <tbody>\n",
              "    <tr>\n",
              "      <th>2017-01-03</th>\n",
              "      <td>NaN</td>\n",
              "      <td>NaN</td>\n",
              "      <td>NaN</td>\n",
              "      <td>NaN</td>\n",
              "    </tr>\n",
              "    <tr>\n",
              "      <th>2017-01-04</th>\n",
              "      <td>-0.001120</td>\n",
              "      <td>-0.005911</td>\n",
              "      <td>0.012305</td>\n",
              "      <td>0.004646</td>\n",
              "    </tr>\n",
              "    <tr>\n",
              "      <th>2017-01-05</th>\n",
              "      <td>0.005072</td>\n",
              "      <td>0.002323</td>\n",
              "      <td>-0.003314</td>\n",
              "      <td>0.030270</td>\n",
              "    </tr>\n",
              "    <tr>\n",
              "      <th>2017-01-06</th>\n",
              "      <td>0.011087</td>\n",
              "      <td>0.001987</td>\n",
              "      <td>0.004908</td>\n",
              "      <td>0.019716</td>\n",
              "    </tr>\n",
              "    <tr>\n",
              "      <th>2017-01-09</th>\n",
              "      <td>0.009118</td>\n",
              "      <td>-0.001655</td>\n",
              "      <td>-0.011151</td>\n",
              "      <td>0.001168</td>\n",
              "    </tr>\n",
              "  </tbody>\n",
              "</table>\n",
              "</div>"
            ],
            "text/plain": [
              "                aapl     cisco       ibm      amzn\n",
              "Date                                              \n",
              "2017-01-03       NaN       NaN       NaN       NaN\n",
              "2017-01-04 -0.001120 -0.005911  0.012305  0.004646\n",
              "2017-01-05  0.005072  0.002323 -0.003314  0.030270\n",
              "2017-01-06  0.011087  0.001987  0.004908  0.019716\n",
              "2017-01-09  0.009118 -0.001655 -0.011151  0.001168"
            ]
          },
          "metadata": {
            "tags": []
          },
          "execution_count": 17
        }
      ]
    },
    {
      "cell_type": "code",
      "metadata": {
        "colab": {
          "base_uri": "https://localhost:8080/",
          "height": 435
        },
        "id": "xlxJj_8cNGBQ",
        "outputId": "8edcf5f9-f0a9-4c47-92ac-75f1cca901e1"
      },
      "source": [
        "log_ret.hist(bins=100,figsize=(12,8))\n",
        "plt.tight_layout()"
      ],
      "execution_count": 20,
      "outputs": [
        {
          "output_type": "display_data",
          "data": {
            "image/png": "[encoded data removed]",
            "text/plain": [
              "<Figure size 864x576 with 4 Axes>"
            ]
          },
          "metadata": {
            "tags": [],
            "needs_background": "light"
          }
        }
      ]
    },
    {
      "cell_type": "code",
      "metadata": {
        "colab": {
          "base_uri": "https://localhost:8080/"
        },
        "id": "hipBcqE1NXus",
        "outputId": "98ea96a0-b22a-4976-bcef-90cde092e979"
      },
      "source": [
        "log_ret.mean()"
      ],
      "execution_count": 21,
      "outputs": [
        {
          "output_type": "execute_result",
          "data": {
            "text/plain": [
              "aapl     0.001177\n",
              "cisco    0.001201\n",
              "ibm     -0.000187\n",
              "amzn     0.002235\n",
              "dtype: float64"
            ]
          },
          "metadata": {
            "tags": []
          },
          "execution_count": 21
        }
      ]
    },
    {
      "cell_type": "code",
      "metadata": {
        "colab": {
          "base_uri": "https://localhost:8080/",
          "height": 175
        },
        "id": "rR2Mb4rbNafY",
        "outputId": "3ac08e5c-80f1-4fef-c78b-fe5b87405eca"
      },
      "source": [
        "log_ret.cov() * 252*5"
      ],
      "execution_count": 24,
      "outputs": [
        {
          "output_type": "execute_result",
          "data": {
            "text/html": [
              "<div>\n",
              "<style scoped>\n",
              "    .dataframe tbody tr th:only-of-type {\n",
              "        vertical-align: middle;\n",
              "    }\n",
              "\n",
              "    .dataframe tbody tr th {\n",
              "        vertical-align: top;\n",
              "    }\n",
              "\n",
              "    .dataframe thead th {\n",
              "        text-align: right;\n",
              "    }\n",
              "</style>\n",
              "<table border=\"1\" class=\"dataframe\">\n",
              "  <thead>\n",
              "    <tr style=\"text-align: right;\">\n",
              "      <th></th>\n",
              "      <th>aapl</th>\n",
              "      <th>cisco</th>\n",
              "      <th>ibm</th>\n",
              "      <th>amzn</th>\n",
              "    </tr>\n",
              "  </thead>\n",
              "  <tbody>\n",
              "    <tr>\n",
              "      <th>aapl</th>\n",
              "      <td>0.193608</td>\n",
              "      <td>0.078277</td>\n",
              "      <td>0.040753</td>\n",
              "      <td>0.114847</td>\n",
              "    </tr>\n",
              "    <tr>\n",
              "      <th>cisco</th>\n",
              "      <td>0.078277</td>\n",
              "      <td>0.175915</td>\n",
              "      <td>0.066164</td>\n",
              "      <td>0.069011</td>\n",
              "    </tr>\n",
              "    <tr>\n",
              "      <th>ibm</th>\n",
              "      <td>0.040753</td>\n",
              "      <td>0.066164</td>\n",
              "      <td>0.161983</td>\n",
              "      <td>0.039710</td>\n",
              "    </tr>\n",
              "    <tr>\n",
              "      <th>amzn</th>\n",
              "      <td>0.114847</td>\n",
              "      <td>0.069011</td>\n",
              "      <td>0.039710</td>\n",
              "      <td>0.255200</td>\n",
              "    </tr>\n",
              "  </tbody>\n",
              "</table>\n",
              "</div>"
            ],
            "text/plain": [
              "           aapl     cisco       ibm      amzn\n",
              "aapl   0.193608  0.078277  0.040753  0.114847\n",
              "cisco  0.078277  0.175915  0.066164  0.069011\n",
              "ibm    0.040753  0.066164  0.161983  0.039710\n",
              "amzn   0.114847  0.069011  0.039710  0.255200"
            ]
          },
          "metadata": {
            "tags": []
          },
          "execution_count": 24
        }
      ]
    },
    {
      "cell_type": "code",
      "metadata": {
        "colab": {
          "base_uri": "https://localhost:8080/"
        },
        "id": "iDibKUokNmqo",
        "outputId": "0e05c991-6186-4f20-e31d-cb1b58cefc9c"
      },
      "source": [
        "np.random.seed(101)\n",
        "print(stocks.columns)\n",
        "\n",
        "weights = np.array(np.random.random(4))\n",
        "print(\"random weight\",weights)\n",
        "\n",
        "weights = weights / np.sum(weights)\n",
        "print(\"normalised weights\",weights)\n",
        "\n",
        "# expected portfoilio return\n",
        "exp_ret = np.sum(log_ret.mean()*weights) * 252*5\n",
        "print(\"Expected return\",exp_ret)\n",
        "\n",
        "#expected volatility\n",
        "exp_vol = np.sqrt(np.dot(weights.T,np.dot(log_ret.cov()*252*5,weights)))\n",
        "print(\"Expected volatility\",exp_vol)\n",
        "\n",
        "#sharpe ratio\n",
        "SR = exp_ret/exp_vol\n",
        "print(\"SR\", SR)"
      ],
      "execution_count": 36,
      "outputs": [
        {
          "output_type": "stream",
          "text": [
            "Index(['aapl', 'cisco', 'ibm', 'amzn'], dtype='object')\n",
            "random weight [0.51639863 0.57066759 0.02847423 0.17152166]\n",
            "normalised weights [0.40122278 0.44338777 0.02212343 0.13326603]\n",
            "Expected return 1.636077872497379\n",
            "Expected volatility 0.3477147344845852\n",
            "SR 4.705230208097234\n"
          ],
          "name": "stdout"
        }
      ]
    },
    {
      "cell_type": "code",
      "metadata": {
        "id": "C2bviA0xO-MV"
      },
      "source": [
        "np.random.seed(101)\n",
        "\n",
        "num_ports = 5000\n",
        "all_weights = np.zeros((num_ports,len(stocks.columns)))\n",
        "ret_arr = np.zeros(num_ports)\n",
        "vol_arr = np.zeros(num_ports)\n",
        "sharpe_arr = np.zeros(num_ports)\n",
        "\n",
        "for i in range(num_ports):\n",
        "\n",
        "  weights = np.array(np.random.random(4))\n",
        "  weights = weights / np.sum(weights)\n",
        "  all_weights[i,:] = weights\n",
        "\n",
        "  # expected portfoilio return\n",
        "  ret_arr[i] = np.sum(log_ret.mean()*weights) * 252\n",
        "\n",
        "  #expected volatility\n",
        "  vol_arr[i] = np.sqrt(np.dot(weights.T,np.dot(log_ret.cov()*252,weights)))\n",
        "\n",
        "  #sharpe ratio\n",
        "  sharpe_arr[i] = ret_arr[i] / vol_arr[i]\n"
      ],
      "execution_count": 39,
      "outputs": []
    },
    {
      "cell_type": "code",
      "metadata": {
        "colab": {
          "base_uri": "https://localhost:8080/"
        },
        "id": "CQJ6Ns4aQgeK",
        "outputId": "31ccee93-f783-47a2-b822-fe04e30de5ef"
      },
      "source": [
        "sharpe_arr.max()"
      ],
      "execution_count": 40,
      "outputs": [
        {
          "output_type": "execute_result",
          "data": {
            "text/plain": [
              "2.611646865165918"
            ]
          },
          "metadata": {
            "tags": []
          },
          "execution_count": 40
        }
      ]
    },
    {
      "cell_type": "code",
      "metadata": {
        "colab": {
          "base_uri": "https://localhost:8080/"
        },
        "id": "dvduK0QwQn5w",
        "outputId": "a81bada7-90a8-48a6-9d96-7bdc1e440f60"
      },
      "source": [
        "sharpe_arr.argmax()"
      ],
      "execution_count": 41,
      "outputs": [
        {
          "output_type": "execute_result",
          "data": {
            "text/plain": [
              "1358"
            ]
          },
          "metadata": {
            "tags": []
          },
          "execution_count": 41
        }
      ]
    },
    {
      "cell_type": "code",
      "metadata": {
        "colab": {
          "base_uri": "https://localhost:8080/"
        },
        "id": "d5IjIIAuQrLF",
        "outputId": "a084e9fa-1d2e-4604-a310-e00990939309"
      },
      "source": [
        "all_weights[1358,:]"
      ],
      "execution_count": 42,
      "outputs": [
        {
          "output_type": "execute_result",
          "data": {
            "text/plain": [
              "array([0.05041405, 0.37255462, 0.00733004, 0.56970129])"
            ]
          },
          "metadata": {
            "tags": []
          },
          "execution_count": 42
        }
      ]
    },
    {
      "cell_type": "code",
      "metadata": {
        "id": "jlNGh3UDRT-_"
      },
      "source": [
        "max_sr_ret = ret_arr[1358]\n",
        "max_sr_vol = vol_arr[1358]"
      ],
      "execution_count": 46,
      "outputs": []
    },
    {
      "cell_type": "code",
      "metadata": {
        "colab": {
          "base_uri": "https://localhost:8080/",
          "height": 515
        },
        "id": "oz_dFyCxQvTw",
        "outputId": "645fc316-0cae-4991-e865-e258f7ac639a"
      },
      "source": [
        "plt.figure(figsize=(12,8))\n",
        "plt.scatter(vol_arr,ret_arr,c=sharpe_arr,cmap = 'plasma')\n",
        "plt.colorbar(label = 'Sharpe Ratio')\n",
        "plt.xlabel('Volatilty')\n",
        "plt.ylabel('Return')\n",
        "\n",
        "plt.scatter(max_sr_vol,max_sr_ret,c='red',s=50)"
      ],
      "execution_count": 47,
      "outputs": [
        {
          "output_type": "execute_result",
          "data": {
            "text/plain": [
              "<matplotlib.collections.PathCollection at 0x7fe7304bc210>"
            ]
          },
          "metadata": {
            "tags": []
          },
          "execution_count": 47
        },
        {
          "output_type": "display_data",
          "data": {
            "image/png": "[encoded data removed]",
            "text/plain": [
              "<Figure size 864x576 with 2 Axes>"
            ]
          },
          "metadata": {
            "tags": [],
            "needs_background": "light"
          }
        }
      ]
    }
  ]
}