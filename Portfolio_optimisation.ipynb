{
  "nbformat": 4,
  "nbformat_minor": 0,
  "metadata": {
    "colab": {
      "name": "Portfolio_optimisation.ipynb",
      "provenance": [],
      "authorship_tag": "ABX9TyNOs1EsEN/SzmJd2BfJZ+vG",
      "include_colab_link": true
    },
    "kernelspec": {
      "name": "python3",
      "display_name": "Python 3"
    },
    "language_info": {
      "name": "python"
    }
  },
  "cells": [
    {
      "cell_type": "markdown",
      "metadata": {
        "id": "view-in-github",
        "colab_type": "text"
      },
      "source": [
        "<a href=\"https://colab.research.google.com/github/gaditi123/quant/blob/main/Portfolio_optimisation.ipynb\" target=\"_parent\"><img src=\"https://colab.research.google.com/assets/colab-badge.svg\" alt=\"Open In Colab\"/></a>"
      ]
    },
    {
      "cell_type": "code",
      "metadata": {
        "id": "ozS3pIRxMH0l",
        "outputId": "3fc08aae-57de-44a8-8195-6025cd8e69f3",
        "colab": {
          "base_uri": "https://localhost:8080/"
        }
      },
      "source": [
        "!pip install quandl"
      ],
      "execution_count": 1,
      "outputs": [
        {
          "output_type": "stream",
          "text": [
            "Collecting quandl\n",
            "  Downloading https://files.pythonhosted.org/packages/8b/2b/feefb36015beaecc5c0f9f2533e815b409621d9fa7b50b2aac621796f828/Quandl-3.6.1-py2.py3-none-any.whl\n",
            "Requirement already satisfied: requests>=2.7.0 in /usr/local/lib/python3.7/dist-packages (from quandl) (2.23.0)\n",
            "Collecting inflection>=0.3.1\n",
            "  Downloading https://files.pythonhosted.org/packages/59/91/aa6bde563e0085a02a435aa99b49ef75b0a4b062635e606dab23ce18d720/inflection-0.5.1-py2.py3-none-any.whl\n",
            "Requirement already satisfied: more-itertools in /usr/local/lib/python3.7/dist-packages (from quandl) (8.7.0)\n",
            "Requirement already satisfied: python-dateutil in /usr/local/lib/python3.7/dist-packages (from quandl) (2.8.1)\n",
            "Requirement already satisfied: six in /usr/local/lib/python3.7/dist-packages (from quandl) (1.15.0)\n",
            "Requirement already satisfied: numpy>=1.8 in /usr/local/lib/python3.7/dist-packages (from quandl) (1.19.5)\n",
            "Requirement already satisfied: pandas>=0.14 in /usr/local/lib/python3.7/dist-packages (from quandl) (1.1.5)\n",
            "Requirement already satisfied: chardet<4,>=3.0.2 in /usr/local/lib/python3.7/dist-packages (from requests>=2.7.0->quandl) (3.0.4)\n",
            "Requirement already satisfied: urllib3!=1.25.0,!=1.25.1,<1.26,>=1.21.1 in /usr/local/lib/python3.7/dist-packages (from requests>=2.7.0->quandl) (1.24.3)\n",
            "Requirement already satisfied: certifi>=2017.4.17 in /usr/local/lib/python3.7/dist-packages (from requests>=2.7.0->quandl) (2020.12.5)\n",
            "Requirement already satisfied: idna<3,>=2.5 in /usr/local/lib/python3.7/dist-packages (from requests>=2.7.0->quandl) (2.10)\n",
            "Requirement already satisfied: pytz>=2017.2 in /usr/local/lib/python3.7/dist-packages (from pandas>=0.14->quandl) (2018.9)\n",
            "Installing collected packages: inflection, quandl\n",
            "Successfully installed inflection-0.5.1 quandl-3.6.1\n"
          ],
          "name": "stdout"
        }
      ]
    },
    {
      "cell_type": "code",
      "metadata": {
        "id": "XVykHg9WL8DM"
      },
      "source": [
        "import pandas as pd\n",
        "import quandl\n",
        "import numpy as np\n",
        "import matplotlib.pyplot as plt\n",
        "%matplotlib inline"
      ],
      "execution_count": 2,
      "outputs": []
    },
    {
      "cell_type": "code",
      "metadata": {
        "id": "CXlha_wvMAf3"
      },
      "source": [
        "start = pd.to_datetime('2017-01-01')\n",
        "end = pd.to_datetime('2021-01-01')"
      ],
      "execution_count": 3,
      "outputs": []
    },
    {
      "cell_type": "code",
      "metadata": {
        "id": "YR248L2jMC7l"
      },
      "source": [
        "aapl = quandl.get('WIKI/AAPL.11',start_date = start,                  end_date = end)\n",
        "cisco = quandl.get('WIKI/CSCO.11',                   start_date = start,                   end_date = end)\n",
        "ibm = quandl.get('WIKI/IBM.11',                 start_date = start,                 end_date = end)\n",
        "amzn = quandl.get('WIKI/AMZN.11',                  start_date = start,                  end_date = end)"
      ],
      "execution_count": 4,
      "outputs": []
    },
    {
      "cell_type": "code",
      "metadata": {
        "colab": {
          "base_uri": "https://localhost:8080/",
          "height": 237
        },
        "id": "2lOcYF5BMC1b",
        "outputId": "b7093fc3-a187-4f7a-a5c2-9701948365e4"
      },
      "source": [
        "aapl.head()"
      ],
      "execution_count": 5,
      "outputs": [
        {
          "output_type": "execute_result",
          "data": {
            "text/html": [
              "<div>\n",
              "<style scoped>\n",
              "    .dataframe tbody tr th:only-of-type {\n",
              "        vertical-align: middle;\n",
              "    }\n",
              "\n",
              "    .dataframe tbody tr th {\n",
              "        vertical-align: top;\n",
              "    }\n",
              "\n",
              "    .dataframe thead th {\n",
              "        text-align: right;\n",
              "    }\n",
              "</style>\n",
              "<table border=\"1\" class=\"dataframe\">\n",
              "  <thead>\n",
              "    <tr style=\"text-align: right;\">\n",
              "      <th></th>\n",
              "      <th>Adj. Close</th>\n",
              "    </tr>\n",
              "    <tr>\n",
              "      <th>Date</th>\n",
              "      <th></th>\n",
              "    </tr>\n",
              "  </thead>\n",
              "  <tbody>\n",
              "    <tr>\n",
              "      <th>2017-01-03</th>\n",
              "      <td>114.715378</td>\n",
              "    </tr>\n",
              "    <tr>\n",
              "      <th>2017-01-04</th>\n",
              "      <td>114.586983</td>\n",
              "    </tr>\n",
              "    <tr>\n",
              "      <th>2017-01-05</th>\n",
              "      <td>115.169696</td>\n",
              "    </tr>\n",
              "    <tr>\n",
              "      <th>2017-01-06</th>\n",
              "      <td>116.453639</td>\n",
              "    </tr>\n",
              "    <tr>\n",
              "      <th>2017-01-09</th>\n",
              "      <td>117.520300</td>\n",
              "    </tr>\n",
              "  </tbody>\n",
              "</table>\n",
              "</div>"
            ],
            "text/plain": [
              "            Adj. Close\n",
              "Date                  \n",
              "2017-01-03  114.715378\n",
              "2017-01-04  114.586983\n",
              "2017-01-05  115.169696\n",
              "2017-01-06  116.453639\n",
              "2017-01-09  117.520300"
            ]
          },
          "metadata": {
            "tags": []
          },
          "execution_count": 5
        }
      ]
    },
    {
      "cell_type": "code",
      "metadata": {
        "id": "dAYdq0RuMTzX"
      },
      "source": [
        "stocks = pd.concat([aapl, cisco, ibm, amzn],axis = 1)\n",
        "stocks.columns = ['aapl','cisco','ibm','amzn']"
      ],
      "execution_count": 6,
      "outputs": []
    },
    {
      "cell_type": "code",
      "metadata": {
        "colab": {
          "base_uri": "https://localhost:8080/",
          "height": 237
        },
        "id": "HLwT8VIvMeOo",
        "outputId": "d48ecfb3-924f-47ed-b4a5-087b78a38af9"
      },
      "source": [
        "stocks.head()"
      ],
      "execution_count": 7,
      "outputs": [
        {
          "output_type": "execute_result",
          "data": {
            "text/html": [
              "<div>\n",
              "<style scoped>\n",
              "    .dataframe tbody tr th:only-of-type {\n",
              "        vertical-align: middle;\n",
              "    }\n",
              "\n",
              "    .dataframe tbody tr th {\n",
              "        vertical-align: top;\n",
              "    }\n",
              "\n",
              "    .dataframe thead th {\n",
              "        text-align: right;\n",
              "    }\n",
              "</style>\n",
              "<table border=\"1\" class=\"dataframe\">\n",
              "  <thead>\n",
              "    <tr style=\"text-align: right;\">\n",
              "      <th></th>\n",
              "      <th>aapl</th>\n",
              "      <th>cisco</th>\n",
              "      <th>ibm</th>\n",
              "      <th>amzn</th>\n",
              "    </tr>\n",
              "    <tr>\n",
              "      <th>Date</th>\n",
              "      <th></th>\n",
              "      <th></th>\n",
              "      <th></th>\n",
              "      <th></th>\n",
              "    </tr>\n",
              "  </thead>\n",
              "  <tbody>\n",
              "    <tr>\n",
              "      <th>2017-01-03</th>\n",
              "      <td>114.715378</td>\n",
              "      <td>29.484966</td>\n",
              "      <td>160.939852</td>\n",
              "      <td>753.67</td>\n",
              "    </tr>\n",
              "    <tr>\n",
              "      <th>2017-01-04</th>\n",
              "      <td>114.586983</td>\n",
              "      <td>29.311184</td>\n",
              "      <td>162.932468</td>\n",
              "      <td>757.18</td>\n",
              "    </tr>\n",
              "    <tr>\n",
              "      <th>2017-01-05</th>\n",
              "      <td>115.169696</td>\n",
              "      <td>29.379349</td>\n",
              "      <td>162.393403</td>\n",
              "      <td>780.45</td>\n",
              "    </tr>\n",
              "    <tr>\n",
              "      <th>2017-01-06</th>\n",
              "      <td>116.453639</td>\n",
              "      <td>29.437777</td>\n",
              "      <td>163.192375</td>\n",
              "      <td>795.99</td>\n",
              "    </tr>\n",
              "    <tr>\n",
              "      <th>2017-01-09</th>\n",
              "      <td>117.520300</td>\n",
              "      <td>29.389087</td>\n",
              "      <td>161.382655</td>\n",
              "      <td>796.92</td>\n",
              "    </tr>\n",
              "  </tbody>\n",
              "</table>\n",
              "</div>"
            ],
            "text/plain": [
              "                  aapl      cisco         ibm    amzn\n",
              "Date                                                 \n",
              "2017-01-03  114.715378  29.484966  160.939852  753.67\n",
              "2017-01-04  114.586983  29.311184  162.932468  757.18\n",
              "2017-01-05  115.169696  29.379349  162.393403  780.45\n",
              "2017-01-06  116.453639  29.437777  163.192375  795.99\n",
              "2017-01-09  117.520300  29.389087  161.382655  796.92"
            ]
          },
          "metadata": {
            "tags": []
          },
          "execution_count": 7
        }
      ]
    },
    {
      "cell_type": "code",
      "metadata": {
        "colab": {
          "base_uri": "https://localhost:8080/"
        },
        "id": "vho60J2AMgkh",
        "outputId": "6a098b60-a780-4021-cd54-b977450b3e41"
      },
      "source": [
        "stocks.pct_change(1).mean()"
      ],
      "execution_count": 8,
      "outputs": [
        {
          "output_type": "execute_result",
          "data": {
            "text/plain": [
              "aapl     0.001323\n",
              "cisco    0.001271\n",
              "ibm     -0.000123\n",
              "amzn     0.002332\n",
              "dtype: float64"
            ]
          },
          "metadata": {
            "tags": []
          },
          "execution_count": 8
        }
      ]
    },
    {
      "cell_type": "code",
      "metadata": {
        "colab": {
          "base_uri": "https://localhost:8080/",
          "height": 175
        },
        "id": "X02132BOMlI4",
        "outputId": "6e681af2-e412-487e-fd6f-d3d97fb57e85"
      },
      "source": [
        "stocks.pct_change(1).corr()"
      ],
      "execution_count": 9,
      "outputs": [
        {
          "output_type": "execute_result",
          "data": {
            "text/html": [
              "<div>\n",
              "<style scoped>\n",
              "    .dataframe tbody tr th:only-of-type {\n",
              "        vertical-align: middle;\n",
              "    }\n",
              "\n",
              "    .dataframe tbody tr th {\n",
              "        vertical-align: top;\n",
              "    }\n",
              "\n",
              "    .dataframe thead th {\n",
              "        text-align: right;\n",
              "    }\n",
              "</style>\n",
              "<table border=\"1\" class=\"dataframe\">\n",
              "  <thead>\n",
              "    <tr style=\"text-align: right;\">\n",
              "      <th></th>\n",
              "      <th>aapl</th>\n",
              "      <th>cisco</th>\n",
              "      <th>ibm</th>\n",
              "      <th>amzn</th>\n",
              "    </tr>\n",
              "  </thead>\n",
              "  <tbody>\n",
              "    <tr>\n",
              "      <th>aapl</th>\n",
              "      <td>1.000000</td>\n",
              "      <td>0.418777</td>\n",
              "      <td>0.226460</td>\n",
              "      <td>0.510797</td>\n",
              "    </tr>\n",
              "    <tr>\n",
              "      <th>cisco</th>\n",
              "      <td>0.418777</td>\n",
              "      <td>1.000000</td>\n",
              "      <td>0.389988</td>\n",
              "      <td>0.320325</td>\n",
              "    </tr>\n",
              "    <tr>\n",
              "      <th>ibm</th>\n",
              "      <td>0.226460</td>\n",
              "      <td>0.389988</td>\n",
              "      <td>1.000000</td>\n",
              "      <td>0.188926</td>\n",
              "    </tr>\n",
              "    <tr>\n",
              "      <th>amzn</th>\n",
              "      <td>0.510797</td>\n",
              "      <td>0.320325</td>\n",
              "      <td>0.188926</td>\n",
              "      <td>1.000000</td>\n",
              "    </tr>\n",
              "  </tbody>\n",
              "</table>\n",
              "</div>"
            ],
            "text/plain": [
              "           aapl     cisco       ibm      amzn\n",
              "aapl   1.000000  0.418777  0.226460  0.510797\n",
              "cisco  0.418777  1.000000  0.389988  0.320325\n",
              "ibm    0.226460  0.389988  1.000000  0.188926\n",
              "amzn   0.510797  0.320325  0.188926  1.000000"
            ]
          },
          "metadata": {
            "tags": []
          },
          "execution_count": 9
        }
      ]
    },
    {
      "cell_type": "markdown",
      "metadata": {
        "id": "XQMjDqgHMqCp"
      },
      "source": [
        "Log returns - de trending and normalising the data"
      ]
    },
    {
      "cell_type": "code",
      "metadata": {
        "colab": {
          "base_uri": "https://localhost:8080/",
          "height": 237
        },
        "id": "b2NhZGJRMpfi",
        "outputId": "58a17a37-d37f-458d-ba14-5e28082ca801"
      },
      "source": [
        "stocks.pct_change(1).head()"
      ],
      "execution_count": 10,
      "outputs": [
        {
          "output_type": "execute_result",
          "data": {
            "text/html": [
              "<div>\n",
              "<style scoped>\n",
              "    .dataframe tbody tr th:only-of-type {\n",
              "        vertical-align: middle;\n",
              "    }\n",
              "\n",
              "    .dataframe tbody tr th {\n",
              "        vertical-align: top;\n",
              "    }\n",
              "\n",
              "    .dataframe thead th {\n",
              "        text-align: right;\n",
              "    }\n",
              "</style>\n",
              "<table border=\"1\" class=\"dataframe\">\n",
              "  <thead>\n",
              "    <tr style=\"text-align: right;\">\n",
              "      <th></th>\n",
              "      <th>aapl</th>\n",
              "      <th>cisco</th>\n",
              "      <th>ibm</th>\n",
              "      <th>amzn</th>\n",
              "    </tr>\n",
              "    <tr>\n",
              "      <th>Date</th>\n",
              "      <th></th>\n",
              "      <th></th>\n",
              "      <th></th>\n",
              "      <th></th>\n",
              "    </tr>\n",
              "  </thead>\n",
              "  <tbody>\n",
              "    <tr>\n",
              "      <th>2017-01-03</th>\n",
              "      <td>NaN</td>\n",
              "      <td>NaN</td>\n",
              "      <td>NaN</td>\n",
              "      <td>NaN</td>\n",
              "    </tr>\n",
              "    <tr>\n",
              "      <th>2017-01-04</th>\n",
              "      <td>-0.001119</td>\n",
              "      <td>-0.005894</td>\n",
              "      <td>0.012381</td>\n",
              "      <td>0.004657</td>\n",
              "    </tr>\n",
              "    <tr>\n",
              "      <th>2017-01-05</th>\n",
              "      <td>0.005085</td>\n",
              "      <td>0.002326</td>\n",
              "      <td>-0.003309</td>\n",
              "      <td>0.030732</td>\n",
              "    </tr>\n",
              "    <tr>\n",
              "      <th>2017-01-06</th>\n",
              "      <td>0.011148</td>\n",
              "      <td>0.001989</td>\n",
              "      <td>0.004920</td>\n",
              "      <td>0.019912</td>\n",
              "    </tr>\n",
              "    <tr>\n",
              "      <th>2017-01-09</th>\n",
              "      <td>0.009160</td>\n",
              "      <td>-0.001654</td>\n",
              "      <td>-0.011089</td>\n",
              "      <td>0.001168</td>\n",
              "    </tr>\n",
              "  </tbody>\n",
              "</table>\n",
              "</div>"
            ],
            "text/plain": [
              "                aapl     cisco       ibm      amzn\n",
              "Date                                              \n",
              "2017-01-03       NaN       NaN       NaN       NaN\n",
              "2017-01-04 -0.001119 -0.005894  0.012381  0.004657\n",
              "2017-01-05  0.005085  0.002326 -0.003309  0.030732\n",
              "2017-01-06  0.011148  0.001989  0.004920  0.019912\n",
              "2017-01-09  0.009160 -0.001654 -0.011089  0.001168"
            ]
          },
          "metadata": {
            "tags": []
          },
          "execution_count": 10
        }
      ]
    },
    {
      "cell_type": "code",
      "metadata": {
        "colab": {
          "base_uri": "https://localhost:8080/",
          "height": 237
        },
        "id": "GOtdDeq9M3xT",
        "outputId": "d7efd041-e41c-44e7-a957-0d13f79daec6"
      },
      "source": [
        "log_ret = np.log(stocks/stocks.shift(1))\n",
        "log_ret.head()"
      ],
      "execution_count": 11,
      "outputs": [
        {
          "output_type": "execute_result",
          "data": {
            "text/html": [
              "<div>\n",
              "<style scoped>\n",
              "    .dataframe tbody tr th:only-of-type {\n",
              "        vertical-align: middle;\n",
              "    }\n",
              "\n",
              "    .dataframe tbody tr th {\n",
              "        vertical-align: top;\n",
              "    }\n",
              "\n",
              "    .dataframe thead th {\n",
              "        text-align: right;\n",
              "    }\n",
              "</style>\n",
              "<table border=\"1\" class=\"dataframe\">\n",
              "  <thead>\n",
              "    <tr style=\"text-align: right;\">\n",
              "      <th></th>\n",
              "      <th>aapl</th>\n",
              "      <th>cisco</th>\n",
              "      <th>ibm</th>\n",
              "      <th>amzn</th>\n",
              "    </tr>\n",
              "    <tr>\n",
              "      <th>Date</th>\n",
              "      <th></th>\n",
              "      <th></th>\n",
              "      <th></th>\n",
              "      <th></th>\n",
              "    </tr>\n",
              "  </thead>\n",
              "  <tbody>\n",
              "    <tr>\n",
              "      <th>2017-01-03</th>\n",
              "      <td>NaN</td>\n",
              "      <td>NaN</td>\n",
              "      <td>NaN</td>\n",
              "      <td>NaN</td>\n",
              "    </tr>\n",
              "    <tr>\n",
              "      <th>2017-01-04</th>\n",
              "      <td>-0.001120</td>\n",
              "      <td>-0.005911</td>\n",
              "      <td>0.012305</td>\n",
              "      <td>0.004646</td>\n",
              "    </tr>\n",
              "    <tr>\n",
              "      <th>2017-01-05</th>\n",
              "      <td>0.005072</td>\n",
              "      <td>0.002323</td>\n",
              "      <td>-0.003314</td>\n",
              "      <td>0.030270</td>\n",
              "    </tr>\n",
              "    <tr>\n",
              "      <th>2017-01-06</th>\n",
              "      <td>0.011087</td>\n",
              "      <td>0.001987</td>\n",
              "      <td>0.004908</td>\n",
              "      <td>0.019716</td>\n",
              "    </tr>\n",
              "    <tr>\n",
              "      <th>2017-01-09</th>\n",
              "      <td>0.009118</td>\n",
              "      <td>-0.001655</td>\n",
              "      <td>-0.011151</td>\n",
              "      <td>0.001168</td>\n",
              "    </tr>\n",
              "  </tbody>\n",
              "</table>\n",
              "</div>"
            ],
            "text/plain": [
              "                aapl     cisco       ibm      amzn\n",
              "Date                                              \n",
              "2017-01-03       NaN       NaN       NaN       NaN\n",
              "2017-01-04 -0.001120 -0.005911  0.012305  0.004646\n",
              "2017-01-05  0.005072  0.002323 -0.003314  0.030270\n",
              "2017-01-06  0.011087  0.001987  0.004908  0.019716\n",
              "2017-01-09  0.009118 -0.001655 -0.011151  0.001168"
            ]
          },
          "metadata": {
            "tags": []
          },
          "execution_count": 11
        }
      ]
    },
    {
      "cell_type": "code",
      "metadata": {
        "colab": {
          "base_uri": "https://localhost:8080/",
          "height": 435
        },
        "id": "xlxJj_8cNGBQ",
        "outputId": "becb83d2-d32b-4307-aef3-0484bd46b072"
      },
      "source": [
        "log_ret.hist(bins=100,figsize=(12,8))\n",
        "plt.tight_layout()"
      ],
      "execution_count": 12,
      "outputs": [
        {
          "output_type": "display_data",
          "data": {
            "image/png": "[encoded data removed]",
            "text/plain": [
              "<Figure size 864x576 with 4 Axes>"
            ]
          },
          "metadata": {
            "tags": [],
            "needs_background": "light"
          }
        }
      ]
    },
    {
      "cell_type": "code",
      "metadata": {
        "colab": {
          "base_uri": "https://localhost:8080/"
        },
        "id": "hipBcqE1NXus",
        "outputId": "9e32a012-b223-469b-9d5d-7dc445f5dbb8"
      },
      "source": [
        "log_ret.mean()"
      ],
      "execution_count": 13,
      "outputs": [
        {
          "output_type": "execute_result",
          "data": {
            "text/plain": [
              "aapl     0.001177\n",
              "cisco    0.001201\n",
              "ibm     -0.000187\n",
              "amzn     0.002235\n",
              "dtype: float64"
            ]
          },
          "metadata": {
            "tags": []
          },
          "execution_count": 13
        }
      ]
    },
    {
      "cell_type": "code",
      "metadata": {
        "colab": {
          "base_uri": "https://localhost:8080/",
          "height": 175
        },
        "id": "rR2Mb4rbNafY",
        "outputId": "09625acb-2fc7-4df9-827d-337be1b4bdef"
      },
      "source": [
        "log_ret.cov() * 252*5"
      ],
      "execution_count": 14,
      "outputs": [
        {
          "output_type": "execute_result",
          "data": {
            "text/html": [
              "<div>\n",
              "<style scoped>\n",
              "    .dataframe tbody tr th:only-of-type {\n",
              "        vertical-align: middle;\n",
              "    }\n",
              "\n",
              "    .dataframe tbody tr th {\n",
              "        vertical-align: top;\n",
              "    }\n",
              "\n",
              "    .dataframe thead th {\n",
              "        text-align: right;\n",
              "    }\n",
              "</style>\n",
              "<table border=\"1\" class=\"dataframe\">\n",
              "  <thead>\n",
              "    <tr style=\"text-align: right;\">\n",
              "      <th></th>\n",
              "      <th>aapl</th>\n",
              "      <th>cisco</th>\n",
              "      <th>ibm</th>\n",
              "      <th>amzn</th>\n",
              "    </tr>\n",
              "  </thead>\n",
              "  <tbody>\n",
              "    <tr>\n",
              "      <th>aapl</th>\n",
              "      <td>0.193608</td>\n",
              "      <td>0.078277</td>\n",
              "      <td>0.040753</td>\n",
              "      <td>0.114847</td>\n",
              "    </tr>\n",
              "    <tr>\n",
              "      <th>cisco</th>\n",
              "      <td>0.078277</td>\n",
              "      <td>0.175915</td>\n",
              "      <td>0.066164</td>\n",
              "      <td>0.069011</td>\n",
              "    </tr>\n",
              "    <tr>\n",
              "      <th>ibm</th>\n",
              "      <td>0.040753</td>\n",
              "      <td>0.066164</td>\n",
              "      <td>0.161983</td>\n",
              "      <td>0.039710</td>\n",
              "    </tr>\n",
              "    <tr>\n",
              "      <th>amzn</th>\n",
              "      <td>0.114847</td>\n",
              "      <td>0.069011</td>\n",
              "      <td>0.039710</td>\n",
              "      <td>0.255200</td>\n",
              "    </tr>\n",
              "  </tbody>\n",
              "</table>\n",
              "</div>"
            ],
            "text/plain": [
              "           aapl     cisco       ibm      amzn\n",
              "aapl   0.193608  0.078277  0.040753  0.114847\n",
              "cisco  0.078277  0.175915  0.066164  0.069011\n",
              "ibm    0.040753  0.066164  0.161983  0.039710\n",
              "amzn   0.114847  0.069011  0.039710  0.255200"
            ]
          },
          "metadata": {
            "tags": []
          },
          "execution_count": 14
        }
      ]
    },
    {
      "cell_type": "code",
      "metadata": {
        "colab": {
          "base_uri": "https://localhost:8080/"
        },
        "id": "iDibKUokNmqo",
        "outputId": "53c02740-e3e9-41dd-ddb4-cfb5887777c7"
      },
      "source": [
        "np.random.seed(101)\n",
        "print(stocks.columns)\n",
        "\n",
        "weights = np.array(np.random.random(4))\n",
        "print(\"random weight\",weights)\n",
        "\n",
        "weights = weights / np.sum(weights)\n",
        "print(\"normalised weights\",weights)\n",
        "\n",
        "# expected portfoilio return\n",
        "exp_ret = np.sum(log_ret.mean()*weights) * 252*5\n",
        "print(\"Expected return\",exp_ret)\n",
        "\n",
        "#expected volatility\n",
        "exp_vol = np.sqrt(np.dot(weights.T,np.dot(log_ret.cov()*252*5,weights)))\n",
        "print(\"Expected volatility\",exp_vol)\n",
        "\n",
        "#sharpe ratio\n",
        "SR = exp_ret/exp_vol\n",
        "print(\"SR\", SR)"
      ],
      "execution_count": 15,
      "outputs": [
        {
          "output_type": "stream",
          "text": [
            "Index(['aapl', 'cisco', 'ibm', 'amzn'], dtype='object')\n",
            "random weight [0.51639863 0.57066759 0.02847423 0.17152166]\n",
            "normalised weights [0.40122278 0.44338777 0.02212343 0.13326603]\n",
            "Expected return 1.636077872497379\n",
            "Expected volatility 0.3477147344845852\n",
            "SR 4.705230208097234\n"
          ],
          "name": "stdout"
        }
      ]
    },
    {
      "cell_type": "code",
      "metadata": {
        "id": "C2bviA0xO-MV"
      },
      "source": [
        "np.random.seed(101)\n",
        "\n",
        "num_ports = 5000\n",
        "all_weights = np.zeros((num_ports,len(stocks.columns)))\n",
        "ret_arr = np.zeros(num_ports)\n",
        "vol_arr = np.zeros(num_ports)\n",
        "sharpe_arr = np.zeros(num_ports)\n",
        "\n",
        "for i in range(num_ports):\n",
        "\n",
        "  weights = np.array(np.random.random(4))\n",
        "  weights = weights / np.sum(weights)\n",
        "  all_weights[i,:] = weights\n",
        "\n",
        "  # expected portfoilio return\n",
        "  ret_arr[i] = np.sum(log_ret.mean()*weights) * 252\n",
        "\n",
        "  #expected volatility\n",
        "  vol_arr[i] = np.sqrt(np.dot(weights.T,np.dot(log_ret.cov()*252,weights)))\n",
        "\n",
        "  #sharpe ratio\n",
        "  sharpe_arr[i] = ret_arr[i] / vol_arr[i]\n"
      ],
      "execution_count": 16,
      "outputs": []
    },
    {
      "cell_type": "code",
      "metadata": {
        "colab": {
          "base_uri": "https://localhost:8080/"
        },
        "id": "CQJ6Ns4aQgeK",
        "outputId": "af8d741e-3f27-4b29-d341-c0d3a8959c9d"
      },
      "source": [
        "sharpe_arr.max()"
      ],
      "execution_count": 17,
      "outputs": [
        {
          "output_type": "execute_result",
          "data": {
            "text/plain": [
              "2.611646865165918"
            ]
          },
          "metadata": {
            "tags": []
          },
          "execution_count": 17
        }
      ]
    },
    {
      "cell_type": "code",
      "metadata": {
        "colab": {
          "base_uri": "https://localhost:8080/"
        },
        "id": "dvduK0QwQn5w",
        "outputId": "8f272f82-e001-44ce-dc39-5b8fe3572f16"
      },
      "source": [
        "sharpe_arr.argmax()"
      ],
      "execution_count": 18,
      "outputs": [
        {
          "output_type": "execute_result",
          "data": {
            "text/plain": [
              "1358"
            ]
          },
          "metadata": {
            "tags": []
          },
          "execution_count": 18
        }
      ]
    },
    {
      "cell_type": "code",
      "metadata": {
        "colab": {
          "base_uri": "https://localhost:8080/"
        },
        "id": "d5IjIIAuQrLF",
        "outputId": "49d7b578-9e26-4c63-e5f4-91576a7baee9"
      },
      "source": [
        "all_weights[1358,:]"
      ],
      "execution_count": 19,
      "outputs": [
        {
          "output_type": "execute_result",
          "data": {
            "text/plain": [
              "array([0.05041405, 0.37255462, 0.00733004, 0.56970129])"
            ]
          },
          "metadata": {
            "tags": []
          },
          "execution_count": 19
        }
      ]
    },
    {
      "cell_type": "code",
      "metadata": {
        "id": "jlNGh3UDRT-_"
      },
      "source": [
        "max_sr_ret = ret_arr[1358]\n",
        "max_sr_vol = vol_arr[1358]"
      ],
      "execution_count": 20,
      "outputs": []
    },
    {
      "cell_type": "code",
      "metadata": {
        "colab": {
          "base_uri": "https://localhost:8080/",
          "height": 479
        },
        "id": "oz_dFyCxQvTw",
        "outputId": "0a0078de-cf82-4ab9-ea23-acae1ab9e32b"
      },
      "source": [
        "plt.figure(figsize=(12,8))\n",
        "plt.scatter(vol_arr,ret_arr,c=sharpe_arr,cmap = 'plasma')\n",
        "plt.colorbar(label = 'Sharpe Ratio')\n",
        "plt.xlabel('Volatilty')\n",
        "plt.ylabel('Return')\n",
        "\n",
        "plt.scatter(max_sr_vol,max_sr_ret,c='red',s=50)"
      ],
      "execution_count": 21,
      "outputs": [
        {
          "output_type": "execute_result",
          "data": {
            "text/plain": [
              "<matplotlib.collections.PathCollection at 0x7f36939bf8d0>"
            ]
          },
          "metadata": {
            "tags": []
          },
          "execution_count": 21
        },
        {
          "output_type": "display_data",
          "data": {
            "image/png": "[encoded data removed]",
            "text/plain": [
              "<Figure size 864x576 with 2 Axes>"
            ]
          },
          "metadata": {
            "tags": [],
            "needs_background": "light"
          }
        }
      ]
    },
    {
      "cell_type": "code",
      "metadata": {
        "id": "l16qOwKBkxeb"
      },
      "source": [
        "def get_ret_vol_sr(weights):\n",
        "  weights = np.array(weights)\n",
        "  ret = np.sum(log_ret.mean()*weights) * 252\n",
        "  vol = np.sqrt(np.dot(weights.T,np.dot(log_ret.cov()*252,weights)))\n",
        "  sr = ret/vol\n",
        "  return np.array([ret,vol,sr])"
      ],
      "execution_count": 22,
      "outputs": []
    },
    {
      "cell_type": "code",
      "metadata": {
        "id": "W_BCsjarlUEM"
      },
      "source": [
        "from scipy.optimize import minimize"
      ],
      "execution_count": 26,
      "outputs": []
    },
    {
      "cell_type": "code",
      "metadata": {
        "id": "LFlKJp0MlX8y"
      },
      "source": [
        "def neg_sharpe(weights):\n",
        "  return get_ret_vol_sr(weights)[2] * -1"
      ],
      "execution_count": 27,
      "outputs": []
    },
    {
      "cell_type": "code",
      "metadata": {
        "id": "qRI1LUp2ljRP"
      },
      "source": [
        "def check_sum(weights):\n",
        "  return np.sum(weights) - 1\n"
      ],
      "execution_count": 28,
      "outputs": []
    },
    {
      "cell_type": "code",
      "metadata": {
        "id": "38HF21Cil0xt"
      },
      "source": [
        "cons = ({'type': 'eq' , 'fun' : check_sum})"
      ],
      "execution_count": 29,
      "outputs": []
    },
    {
      "cell_type": "code",
      "metadata": {
        "id": "oJiuwdyJl-2P"
      },
      "source": [
        "bounds = ((0,1),(0,1),(0,1),(0,1))"
      ],
      "execution_count": 30,
      "outputs": []
    },
    {
      "cell_type": "code",
      "metadata": {
        "id": "uAD3GRFOmEtt"
      },
      "source": [
        "init_guess = [0.25,0.25,0.25,0.25]"
      ],
      "execution_count": 31,
      "outputs": []
    },
    {
      "cell_type": "code",
      "metadata": {
        "id": "Pd50-FiLmKo1"
      },
      "source": [
        "opt_results = minimize(neg_sharpe, init_guess , method = 'SLSQP',bounds = bounds, constraints = cons)"
      ],
      "execution_count": 35,
      "outputs": []
    },
    {
      "cell_type": "code",
      "metadata": {
        "id": "qnoUbwClm-yH",
        "outputId": "3f930e77-380d-414d-a02e-a3a5b72a8628",
        "colab": {
          "base_uri": "https://localhost:8080/"
        }
      },
      "source": [
        "opt_results"
      ],
      "execution_count": 36,
      "outputs": [
        {
          "output_type": "execute_result",
          "data": {
            "text/plain": [
              "     fun: -2.633432202914632\n",
              "     jac: array([ 1.08532608e-02, -6.86883926e-04,  1.03563878e+00,  3.36378813e-04])\n",
              " message: 'Optimization terminated successfully.'\n",
              "    nfev: 37\n",
              "     nit: 6\n",
              "    njev: 6\n",
              "  status: 0\n",
              " success: True\n",
              "       x: array([3.07913417e-17, 3.28755530e-01, 0.00000000e+00, 6.71244470e-01])"
            ]
          },
          "metadata": {
            "tags": []
          },
          "execution_count": 36
        }
      ]
    },
    {
      "cell_type": "code",
      "metadata": {
        "id": "FdOcr9EunBsw",
        "outputId": "b4f1db3e-b33a-432b-c6c8-d5babcb17cca",
        "colab": {
          "base_uri": "https://localhost:8080/"
        }
      },
      "source": [
        "get_ret_vol_sr(opt_results.x)"
      ],
      "execution_count": 37,
      "outputs": [
        {
          "output_type": "execute_result",
          "data": {
            "text/plain": [
              "array([0.47759725, 0.18135923, 2.6334322 ])"
            ]
          },
          "metadata": {
            "tags": []
          },
          "execution_count": 37
        }
      ]
    },
    {
      "cell_type": "code",
      "metadata": {
        "id": "gV_aIwFMnRBK"
      },
      "source": [
        "frontier_y = np.linspace(0,0.6,100)"
      ],
      "execution_count": 38,
      "outputs": []
    },
    {
      "cell_type": "code",
      "metadata": {
        "id": "rTNv2idznfrq"
      },
      "source": [
        "def minimize_volatility(weights):\n",
        "  return get_ret_vol_sr(weights)[1]"
      ],
      "execution_count": 39,
      "outputs": []
    },
    {
      "cell_type": "code",
      "metadata": {
        "id": "oatlToq_no-x"
      },
      "source": [
        "frontier_volatility = []\n",
        "\n",
        "for possible_return in frontier_y:\n",
        "  cons = ({'type':'eq','fun':check_sum},\n",
        "          {'type':'eq','fun':lambda w: get_ret_vol_sr(w)[0] - possible_return})\n",
        "  result = minimize (minimize_volatility , init_guess, method='SLSQP', bounds= bounds, constraints=cons)\n",
        "\n",
        "  frontier_volatility.append(result['fun'])"
      ],
      "execution_count": 40,
      "outputs": []
    },
    {
      "cell_type": "code",
      "metadata": {
        "id": "CgNnqKwaoioR",
        "outputId": "d1a317ea-768f-405a-83ef-47230b55510d",
        "colab": {
          "base_uri": "https://localhost:8080/",
          "height": 479
        }
      },
      "source": [
        "plt.figure(figsize=(12,8))\n",
        "plt.scatter(vol_arr,ret_arr,c=sharpe_arr,cmap = 'plasma')\n",
        "plt.colorbar(label = 'Sharpe Ratio')\n",
        "plt.xlabel('Volatilty')\n",
        "plt.ylabel('Return')\n",
        "\n",
        "plt.plot(frontier_volatility, frontier_y, 'g--', linewidth =3)"
      ],
      "execution_count": 41,
      "outputs": [
        {
          "output_type": "execute_result",
          "data": {
            "text/plain": [
              "[<matplotlib.lines.Line2D at 0x7f3681d2ca50>]"
            ]
          },
          "metadata": {
            "tags": []
          },
          "execution_count": 41
        },
        {
          "output_type": "display_data",
          "data": {
            "image/png": "[encoded data removed]",
            "text/plain": [
              "<Figure size 864x576 with 2 Axes>"
            ]
          },
          "metadata": {
            "tags": [],
            "needs_background": "light"
          }
        }
      ]
    }
  ]
}