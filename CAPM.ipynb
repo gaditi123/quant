{
  "nbformat": 4,
  "nbformat_minor": 0,
  "metadata": {
    "colab": {
      "name": "CAPM.ipynb",
      "provenance": [],
      "authorship_tag": "ABX9TyMFAtSGvfr+uInaOi6OIA/Q",
      "include_colab_link": true
    },
    "kernelspec": {
      "name": "python3",
      "display_name": "Python 3"
    },
    "language_info": {
      "name": "python"
    }
  },
  "cells": [
    {
      "cell_type": "markdown",
      "metadata": {
        "id": "view-in-github",
        "colab_type": "text"
      },
      "source": [
        "<a href=\"https://colab.research.google.com/github/gaditi123/quant/blob/main/CAPM.ipynb\" target=\"_parent\"><img src=\"https://colab.research.google.com/assets/colab-badge.svg\" alt=\"Open In Colab\"/></a>"
      ]
    },
    {
      "cell_type": "code",
      "metadata": {
        "id": "Oqa6p6zFkC4k"
      },
      "source": [
        "from scipy import stats\n",
        "import pandas as pd\n",
        "import pandas_datareader as web\n",
        "import numpy as np\n",
        "import matplotlib.pyplot as plt\n",
        "%matplotlib inline"
      ],
      "execution_count": 7,
      "outputs": []
    },
    {
      "cell_type": "code",
      "metadata": {
        "colab": {
          "base_uri": "https://localhost:8080/"
        },
        "id": "aaq-Jbg6kNR4",
        "outputId": "c0317f24-05a1-457f-bc5f-fdf911f8183e"
      },
      "source": [
        "help(stats.linregress)"
      ],
      "execution_count": 3,
      "outputs": [
        {
          "output_type": "stream",
          "text": [
            "Help on function linregress in module scipy.stats._stats_mstats_common:\n",
            "\n",
            "linregress(x, y=None)\n",
            "    Calculate a linear least-squares regression for two sets of measurements.\n",
            "    \n",
            "    Parameters\n",
            "    ----------\n",
            "    x, y : array_like\n",
            "        Two sets of measurements.  Both arrays should have the same length.  If\n",
            "        only `x` is given (and ``y=None``), then it must be a two-dimensional\n",
            "        array where one dimension has length 2.  The two sets of measurements\n",
            "        are then found by splitting the array along the length-2 dimension.  In\n",
            "        the case where ``y=None`` and `x` is a 2x2 array, ``linregress(x)`` is\n",
            "        equivalent to ``linregress(x[0], x[1])``.\n",
            "    \n",
            "    Returns\n",
            "    -------\n",
            "    slope : float\n",
            "        Slope of the regression line.\n",
            "    intercept : float\n",
            "        Intercept of the regression line.\n",
            "    rvalue : float\n",
            "        Correlation coefficient.\n",
            "    pvalue : float\n",
            "        Two-sided p-value for a hypothesis test whose null hypothesis is\n",
            "        that the slope is zero, using Wald Test with t-distribution of\n",
            "        the test statistic.\n",
            "    stderr : float\n",
            "        Standard error of the estimated gradient.\n",
            "    \n",
            "    See also\n",
            "    --------\n",
            "    :func:`scipy.optimize.curve_fit` : Use non-linear\n",
            "     least squares to fit a function to data.\n",
            "    :func:`scipy.optimize.leastsq` : Minimize the sum of\n",
            "     squares of a set of equations.\n",
            "    \n",
            "    Notes\n",
            "    -----\n",
            "    Missing values are considered pair-wise: if a value is missing in `x`,\n",
            "    the corresponding value in `y` is masked.\n",
            "    \n",
            "    Examples\n",
            "    --------\n",
            "    >>> import matplotlib.pyplot as plt\n",
            "    >>> from scipy import stats\n",
            "    \n",
            "    Generate some data:\n",
            "    \n",
            "    >>> np.random.seed(12345678)\n",
            "    >>> x = np.random.random(10)\n",
            "    >>> y = 1.6*x + np.random.random(10)\n",
            "    \n",
            "    Perform the linear regression:\n",
            "    \n",
            "    >>> slope, intercept, r_value, p_value, std_err = stats.linregress(x, y)\n",
            "    >>> print(\"slope: %f    intercept: %f\" % (slope, intercept))\n",
            "    slope: 1.944864    intercept: 0.268578\n",
            "    \n",
            "    To get coefficient of determination (R-squared):\n",
            "    \n",
            "    >>> print(\"R-squared: %f\" % r_value**2)\n",
            "    R-squared: 0.735498\n",
            "    \n",
            "    Plot the data along with the fitted line:\n",
            "    \n",
            "    >>> plt.plot(x, y, 'o', label='original data')\n",
            "    >>> plt.plot(x, intercept + slope*x, 'r', label='fitted line')\n",
            "    >>> plt.legend()\n",
            "    >>> plt.show()\n",
            "    \n",
            "    Example for the case where only x is provided as a 2x2 array:\n",
            "    \n",
            "    >>> x = np.array([[0, 1], [0, 2]])\n",
            "    >>> r = stats.linregress(x)\n",
            "    >>> r.slope, r.intercept\n",
            "    (2.0, 0.0)\n",
            "\n"
          ],
          "name": "stdout"
        }
      ]
    },
    {
      "cell_type": "code",
      "metadata": {
        "id": "WHWUitr8p2fY"
      },
      "source": [
        "start = pd.to_datetime('2019-06-15')\n",
        "end = pd.to_datetime('2021-06-14')"
      ],
      "execution_count": 60,
      "outputs": []
    },
    {
      "cell_type": "code",
      "metadata": {
        "id": "YrC-GI9qkTC9"
      },
      "source": [
        "spy_etf = web.DataReader('SPY','yahoo',start,end)"
      ],
      "execution_count": 71,
      "outputs": []
    },
    {
      "cell_type": "code",
      "metadata": {
        "colab": {
          "base_uri": "https://localhost:8080/",
          "height": 455
        },
        "id": "NwEQ-lGKko4Q",
        "outputId": "fe3dbbb1-1cff-459d-f354-f5f7f5e8dcdd"
      },
      "source": [
        "spy_etf"
      ],
      "execution_count": 72,
      "outputs": [
        {
          "output_type": "execute_result",
          "data": {
            "text/html": [
              "<div>\n",
              "<style scoped>\n",
              "    .dataframe tbody tr th:only-of-type {\n",
              "        vertical-align: middle;\n",
              "    }\n",
              "\n",
              "    .dataframe tbody tr th {\n",
              "        vertical-align: top;\n",
              "    }\n",
              "\n",
              "    .dataframe thead th {\n",
              "        text-align: right;\n",
              "    }\n",
              "</style>\n",
              "<table border=\"1\" class=\"dataframe\">\n",
              "  <thead>\n",
              "    <tr style=\"text-align: right;\">\n",
              "      <th></th>\n",
              "      <th>High</th>\n",
              "      <th>Low</th>\n",
              "      <th>Open</th>\n",
              "      <th>Close</th>\n",
              "      <th>Volume</th>\n",
              "      <th>Adj Close</th>\n",
              "    </tr>\n",
              "    <tr>\n",
              "      <th>Date</th>\n",
              "      <th></th>\n",
              "      <th></th>\n",
              "      <th></th>\n",
              "      <th></th>\n",
              "      <th></th>\n",
              "      <th></th>\n",
              "    </tr>\n",
              "  </thead>\n",
              "  <tbody>\n",
              "    <tr>\n",
              "      <th>2019-06-17</th>\n",
              "      <td>290.220001</td>\n",
              "      <td>289.179993</td>\n",
              "      <td>289.519989</td>\n",
              "      <td>289.369995</td>\n",
              "      <td>39205700.0</td>\n",
              "      <td>279.100006</td>\n",
              "    </tr>\n",
              "    <tr>\n",
              "      <th>2019-06-18</th>\n",
              "      <td>293.570007</td>\n",
              "      <td>290.989990</td>\n",
              "      <td>291.390015</td>\n",
              "      <td>292.399994</td>\n",
              "      <td>85434800.0</td>\n",
              "      <td>282.022430</td>\n",
              "    </tr>\n",
              "    <tr>\n",
              "      <th>2019-06-19</th>\n",
              "      <td>293.649994</td>\n",
              "      <td>291.470001</td>\n",
              "      <td>292.549988</td>\n",
              "      <td>293.059998</td>\n",
              "      <td>78674400.0</td>\n",
              "      <td>282.658997</td>\n",
              "    </tr>\n",
              "    <tr>\n",
              "      <th>2019-06-20</th>\n",
              "      <td>296.309998</td>\n",
              "      <td>293.130005</td>\n",
              "      <td>296.040009</td>\n",
              "      <td>295.859985</td>\n",
              "      <td>116570000.0</td>\n",
              "      <td>285.359589</td>\n",
              "    </tr>\n",
              "    <tr>\n",
              "      <th>2019-06-21</th>\n",
              "      <td>295.519989</td>\n",
              "      <td>293.760010</td>\n",
              "      <td>294.130005</td>\n",
              "      <td>294.000000</td>\n",
              "      <td>83309500.0</td>\n",
              "      <td>284.944824</td>\n",
              "    </tr>\n",
              "    <tr>\n",
              "      <th>...</th>\n",
              "      <td>...</td>\n",
              "      <td>...</td>\n",
              "      <td>...</td>\n",
              "      <td>...</td>\n",
              "      <td>...</td>\n",
              "      <td>...</td>\n",
              "    </tr>\n",
              "    <tr>\n",
              "      <th>2021-06-07</th>\n",
              "      <td>422.779999</td>\n",
              "      <td>421.190002</td>\n",
              "      <td>422.589996</td>\n",
              "      <td>422.190002</td>\n",
              "      <td>51555000.0</td>\n",
              "      <td>422.190002</td>\n",
              "    </tr>\n",
              "    <tr>\n",
              "      <th>2021-06-08</th>\n",
              "      <td>423.209991</td>\n",
              "      <td>420.320007</td>\n",
              "      <td>423.109985</td>\n",
              "      <td>422.279999</td>\n",
              "      <td>47134300.0</td>\n",
              "      <td>422.279999</td>\n",
              "    </tr>\n",
              "    <tr>\n",
              "      <th>2021-06-09</th>\n",
              "      <td>423.260010</td>\n",
              "      <td>421.410004</td>\n",
              "      <td>423.179993</td>\n",
              "      <td>421.649994</td>\n",
              "      <td>48436300.0</td>\n",
              "      <td>421.649994</td>\n",
              "    </tr>\n",
              "    <tr>\n",
              "      <th>2021-06-10</th>\n",
              "      <td>424.630005</td>\n",
              "      <td>421.549988</td>\n",
              "      <td>422.959991</td>\n",
              "      <td>423.609985</td>\n",
              "      <td>51020100.0</td>\n",
              "      <td>423.609985</td>\n",
              "    </tr>\n",
              "    <tr>\n",
              "      <th>2021-06-11</th>\n",
              "      <td>424.429993</td>\n",
              "      <td>422.820007</td>\n",
              "      <td>424.200012</td>\n",
              "      <td>424.309998</td>\n",
              "      <td>45533100.0</td>\n",
              "      <td>424.309998</td>\n",
              "    </tr>\n",
              "  </tbody>\n",
              "</table>\n",
              "<p>502 rows × 6 columns</p>\n",
              "</div>"
            ],
            "text/plain": [
              "                  High         Low  ...       Volume   Adj Close\n",
              "Date                                ...                         \n",
              "2019-06-17  290.220001  289.179993  ...   39205700.0  279.100006\n",
              "2019-06-18  293.570007  290.989990  ...   85434800.0  282.022430\n",
              "2019-06-19  293.649994  291.470001  ...   78674400.0  282.658997\n",
              "2019-06-20  296.309998  293.130005  ...  116570000.0  285.359589\n",
              "2019-06-21  295.519989  293.760010  ...   83309500.0  284.944824\n",
              "...                ...         ...  ...          ...         ...\n",
              "2021-06-07  422.779999  421.190002  ...   51555000.0  422.190002\n",
              "2021-06-08  423.209991  420.320007  ...   47134300.0  422.279999\n",
              "2021-06-09  423.260010  421.410004  ...   48436300.0  421.649994\n",
              "2021-06-10  424.630005  421.549988  ...   51020100.0  423.609985\n",
              "2021-06-11  424.429993  422.820007  ...   45533100.0  424.309998\n",
              "\n",
              "[502 rows x 6 columns]"
            ]
          },
          "metadata": {
            "tags": []
          },
          "execution_count": 72
        }
      ]
    },
    {
      "cell_type": "code",
      "metadata": {
        "colab": {
          "base_uri": "https://localhost:8080/"
        },
        "id": "DzD63diOkuX_",
        "outputId": "11de5dec-4350-4cbb-ef83-e56f25d9a008"
      },
      "source": [
        "spy_etf.info()"
      ],
      "execution_count": 73,
      "outputs": [
        {
          "output_type": "stream",
          "text": [
            "<class 'pandas.core.frame.DataFrame'>\n",
            "DatetimeIndex: 502 entries, 2019-06-17 to 2021-06-11\n",
            "Data columns (total 6 columns):\n",
            " #   Column     Non-Null Count  Dtype  \n",
            "---  ------     --------------  -----  \n",
            " 0   High       502 non-null    float64\n",
            " 1   Low        502 non-null    float64\n",
            " 2   Open       502 non-null    float64\n",
            " 3   Close      502 non-null    float64\n",
            " 4   Volume     502 non-null    float64\n",
            " 5   Adj Close  502 non-null    float64\n",
            "dtypes: float64(6)\n",
            "memory usage: 27.5 KB\n"
          ],
          "name": "stdout"
        }
      ]
    },
    {
      "cell_type": "code",
      "metadata": {
        "id": "G1xcXhYMkzED"
      },
      "source": [
        ""
      ],
      "execution_count": 42,
      "outputs": []
    },
    {
      "cell_type": "code",
      "metadata": {
        "colab": {
          "base_uri": "https://localhost:8080/",
          "height": 455
        },
        "id": "zZ91j4vulTcK",
        "outputId": "906232d2-b312-490b-9855-9ea0d4eb0779"
      },
      "source": [
        "aapl = web.DataReader('AAPL', 'yahoo',start,end)\n",
        "aapl"
      ],
      "execution_count": 74,
      "outputs": [
        {
          "output_type": "execute_result",
          "data": {
            "text/html": [
              "<div>\n",
              "<style scoped>\n",
              "    .dataframe tbody tr th:only-of-type {\n",
              "        vertical-align: middle;\n",
              "    }\n",
              "\n",
              "    .dataframe tbody tr th {\n",
              "        vertical-align: top;\n",
              "    }\n",
              "\n",
              "    .dataframe thead th {\n",
              "        text-align: right;\n",
              "    }\n",
              "</style>\n",
              "<table border=\"1\" class=\"dataframe\">\n",
              "  <thead>\n",
              "    <tr style=\"text-align: right;\">\n",
              "      <th></th>\n",
              "      <th>High</th>\n",
              "      <th>Low</th>\n",
              "      <th>Open</th>\n",
              "      <th>Close</th>\n",
              "      <th>Volume</th>\n",
              "      <th>Adj Close</th>\n",
              "    </tr>\n",
              "    <tr>\n",
              "      <th>Date</th>\n",
              "      <th></th>\n",
              "      <th></th>\n",
              "      <th></th>\n",
              "      <th></th>\n",
              "      <th></th>\n",
              "      <th></th>\n",
              "    </tr>\n",
              "  </thead>\n",
              "  <tbody>\n",
              "    <tr>\n",
              "      <th>2019-06-17</th>\n",
              "      <td>48.740002</td>\n",
              "      <td>48.042500</td>\n",
              "      <td>48.224998</td>\n",
              "      <td>48.472500</td>\n",
              "      <td>58676400.0</td>\n",
              "      <td>47.580223</td>\n",
              "    </tr>\n",
              "    <tr>\n",
              "      <th>2019-06-18</th>\n",
              "      <td>50.072498</td>\n",
              "      <td>48.802502</td>\n",
              "      <td>49.012501</td>\n",
              "      <td>49.612499</td>\n",
              "      <td>106204000.0</td>\n",
              "      <td>48.699249</td>\n",
              "    </tr>\n",
              "    <tr>\n",
              "      <th>2019-06-19</th>\n",
              "      <td>49.970001</td>\n",
              "      <td>49.327499</td>\n",
              "      <td>49.919998</td>\n",
              "      <td>49.467499</td>\n",
              "      <td>84496800.0</td>\n",
              "      <td>48.556911</td>\n",
              "    </tr>\n",
              "    <tr>\n",
              "      <th>2019-06-20</th>\n",
              "      <td>50.152500</td>\n",
              "      <td>49.507500</td>\n",
              "      <td>50.092499</td>\n",
              "      <td>49.865002</td>\n",
              "      <td>86056000.0</td>\n",
              "      <td>48.947098</td>\n",
              "    </tr>\n",
              "    <tr>\n",
              "      <th>2019-06-21</th>\n",
              "      <td>50.212502</td>\n",
              "      <td>49.537498</td>\n",
              "      <td>49.700001</td>\n",
              "      <td>49.695000</td>\n",
              "      <td>191202400.0</td>\n",
              "      <td>48.780224</td>\n",
              "    </tr>\n",
              "    <tr>\n",
              "      <th>...</th>\n",
              "      <td>...</td>\n",
              "      <td>...</td>\n",
              "      <td>...</td>\n",
              "      <td>...</td>\n",
              "      <td>...</td>\n",
              "      <td>...</td>\n",
              "    </tr>\n",
              "    <tr>\n",
              "      <th>2021-06-07</th>\n",
              "      <td>126.320000</td>\n",
              "      <td>124.830002</td>\n",
              "      <td>126.169998</td>\n",
              "      <td>125.900002</td>\n",
              "      <td>71057600.0</td>\n",
              "      <td>125.900002</td>\n",
              "    </tr>\n",
              "    <tr>\n",
              "      <th>2021-06-08</th>\n",
              "      <td>128.460007</td>\n",
              "      <td>126.209999</td>\n",
              "      <td>126.599998</td>\n",
              "      <td>126.739998</td>\n",
              "      <td>74403800.0</td>\n",
              "      <td>126.739998</td>\n",
              "    </tr>\n",
              "    <tr>\n",
              "      <th>2021-06-09</th>\n",
              "      <td>127.750000</td>\n",
              "      <td>126.519997</td>\n",
              "      <td>127.209999</td>\n",
              "      <td>127.129997</td>\n",
              "      <td>56877900.0</td>\n",
              "      <td>127.129997</td>\n",
              "    </tr>\n",
              "    <tr>\n",
              "      <th>2021-06-10</th>\n",
              "      <td>128.190002</td>\n",
              "      <td>125.940002</td>\n",
              "      <td>127.019997</td>\n",
              "      <td>126.110001</td>\n",
              "      <td>71186400.0</td>\n",
              "      <td>126.110001</td>\n",
              "    </tr>\n",
              "    <tr>\n",
              "      <th>2021-06-11</th>\n",
              "      <td>127.440002</td>\n",
              "      <td>126.099998</td>\n",
              "      <td>126.529999</td>\n",
              "      <td>127.349998</td>\n",
              "      <td>53415300.0</td>\n",
              "      <td>127.349998</td>\n",
              "    </tr>\n",
              "  </tbody>\n",
              "</table>\n",
              "<p>502 rows × 6 columns</p>\n",
              "</div>"
            ],
            "text/plain": [
              "                  High         Low  ...       Volume   Adj Close\n",
              "Date                                ...                         \n",
              "2019-06-17   48.740002   48.042500  ...   58676400.0   47.580223\n",
              "2019-06-18   50.072498   48.802502  ...  106204000.0   48.699249\n",
              "2019-06-19   49.970001   49.327499  ...   84496800.0   48.556911\n",
              "2019-06-20   50.152500   49.507500  ...   86056000.0   48.947098\n",
              "2019-06-21   50.212502   49.537498  ...  191202400.0   48.780224\n",
              "...                ...         ...  ...          ...         ...\n",
              "2021-06-07  126.320000  124.830002  ...   71057600.0  125.900002\n",
              "2021-06-08  128.460007  126.209999  ...   74403800.0  126.739998\n",
              "2021-06-09  127.750000  126.519997  ...   56877900.0  127.129997\n",
              "2021-06-10  128.190002  125.940002  ...   71186400.0  126.110001\n",
              "2021-06-11  127.440002  126.099998  ...   53415300.0  127.349998\n",
              "\n",
              "[502 rows x 6 columns]"
            ]
          },
          "metadata": {
            "tags": []
          },
          "execution_count": 74
        }
      ]
    },
    {
      "cell_type": "code",
      "metadata": {
        "colab": {
          "base_uri": "https://localhost:8080/"
        },
        "id": "m77fhqZYpnYj",
        "outputId": "394e4d58-84e7-431a-f308-284efdbd0354"
      },
      "source": [
        "aapl.info()"
      ],
      "execution_count": 75,
      "outputs": [
        {
          "output_type": "stream",
          "text": [
            "<class 'pandas.core.frame.DataFrame'>\n",
            "DatetimeIndex: 502 entries, 2019-06-17 to 2021-06-11\n",
            "Data columns (total 6 columns):\n",
            " #   Column     Non-Null Count  Dtype  \n",
            "---  ------     --------------  -----  \n",
            " 0   High       502 non-null    float64\n",
            " 1   Low        502 non-null    float64\n",
            " 2   Open       502 non-null    float64\n",
            " 3   Close      502 non-null    float64\n",
            " 4   Volume     502 non-null    float64\n",
            " 5   Adj Close  502 non-null    float64\n",
            "dtypes: float64(6)\n",
            "memory usage: 27.5 KB\n"
          ],
          "name": "stdout"
        }
      ]
    },
    {
      "cell_type": "code",
      "metadata": {
        "colab": {
          "base_uri": "https://localhost:8080/",
          "height": 483
        },
        "id": "f0-zscjalaVO",
        "outputId": "7ea15b05-dfdc-4215-ba6f-9f4b788d971d"
      },
      "source": [
        "aapl['Adj Close'].plot(label = 'AAPL', figsize=(10,8))\n",
        "spy_etf['Adj Close'].plot(label = 'SPY', figsize=(10,8))"
      ],
      "execution_count": 44,
      "outputs": [
        {
          "output_type": "execute_result",
          "data": {
            "text/plain": [
              "<matplotlib.axes._subplots.AxesSubplot at 0x7f45d6308c10>"
            ]
          },
          "metadata": {
            "tags": []
          },
          "execution_count": 44
        },
        {
          "output_type": "display_data",
          "data": {
            "image/png": "[encoded data removed]",
            "text/plain": [
              "<Figure size 720x576 with 1 Axes>"
            ]
          },
          "metadata": {
            "tags": [],
            "needs_background": "light"
          }
        }
      ]
    },
    {
      "cell_type": "code",
      "metadata": {
        "id": "KXpcyzAJl8-h"
      },
      "source": [
        "aapl['Cummalative'] = aapl['Adj Close'] / aapl['Adj Close'].iloc[0]\n",
        "spy_etf['Cummalative'] = spy_etf['Adj Close'] / spy_etf['Adj Close'].iloc[0]"
      ],
      "execution_count": 45,
      "outputs": []
    },
    {
      "cell_type": "code",
      "metadata": {
        "colab": {
          "base_uri": "https://localhost:8080/",
          "height": 483
        },
        "id": "_Ysc0X9TmN22",
        "outputId": "5d8dedae-ee6d-4794-d5bc-ac2825651b4a"
      },
      "source": [
        "aapl['Cummalative'].plot(label = 'AAPL', figsize=(10,8))\n",
        "spy_etf['Cummalative'].plot(label = 'SPY', figsize=(10,8))\n",
        "plt.legend()"
      ],
      "execution_count": 46,
      "outputs": [
        {
          "output_type": "execute_result",
          "data": {
            "text/plain": [
              "<matplotlib.legend.Legend at 0x7f45d6351590>"
            ]
          },
          "metadata": {
            "tags": []
          },
          "execution_count": 46
        },
        {
          "output_type": "display_data",
          "data": {
            "image/png": "[encoded data removed]",
            "text/plain": [
              "<Figure size 720x576 with 1 Axes>"
            ]
          },
          "metadata": {
            "tags": [],
            "needs_background": "light"
          }
        }
      ]
    },
    {
      "cell_type": "code",
      "metadata": {
        "id": "MsrK-nbWmaYz"
      },
      "source": [
        "aapl['Daily Return'] = aapl['Adj Close'].pct_change(1)\n",
        "spy_etf['Daily Return'] = spy_etf['Adj Close'].pct_change(1)"
      ],
      "execution_count": 76,
      "outputs": []
    },
    {
      "cell_type": "code",
      "metadata": {
        "colab": {
          "base_uri": "https://localhost:8080/",
          "height": 287
        },
        "id": "M469D1Fvmkzm",
        "outputId": "a2e49002-8e96-484e-b80a-8599f6bb40d7"
      },
      "source": [
        "plt.scatter(aapl['Daily Return'], spy_etf['Daily Return'],alpha=0.25)"
      ],
      "execution_count": 77,
      "outputs": [
        {
          "output_type": "execute_result",
          "data": {
            "text/plain": [
              "<matplotlib.collections.PathCollection at 0x7f45d60fe450>"
            ]
          },
          "metadata": {
            "tags": []
          },
          "execution_count": 77
        },
        {
          "output_type": "display_data",
          "data": {
            "image/png": "[encoded data removed]",
            "text/plain": [
              "<Figure size 432x288 with 1 Axes>"
            ]
          },
          "metadata": {
            "tags": [],
            "needs_background": "light"
          }
        }
      ]
    },
    {
      "cell_type": "markdown",
      "metadata": {
        "id": "qjchDn2krfOU"
      },
      "source": [
        "Using linear regression to check the correlation between SPY and AAPL stocks"
      ]
    },
    {
      "cell_type": "code",
      "metadata": {
        "id": "uMk9Jlq9murL"
      },
      "source": [
        "beta, alpha, r_value, p_value, std_err = stats.linregress(aapl['Daily Return'].iloc[1:], spy_etf['Daily Return'].iloc[1:])"
      ],
      "execution_count": 21,
      "outputs": []
    },
    {
      "cell_type": "markdown",
      "metadata": {
        "id": "uifknsg4rmfT"
      },
      "source": [
        "A high beta value of around 1 indicates strong correlation"
      ]
    },
    {
      "cell_type": "code",
      "metadata": {
        "colab": {
          "base_uri": "https://localhost:8080/"
        },
        "id": "fvkdIztam9gY",
        "outputId": "04ba58aa-2c67-4b34-9c8d-19f7f6a306e7"
      },
      "source": [
        "beta"
      ],
      "execution_count": 22,
      "outputs": [
        {
          "output_type": "execute_result",
          "data": {
            "text/plain": [
              "0.4681510915998561"
            ]
          },
          "metadata": {
            "tags": []
          },
          "execution_count": 22
        }
      ]
    },
    {
      "cell_type": "markdown",
      "metadata": {
        "id": "kPdovzr8rsh4"
      },
      "source": [
        "If the beta gets higher, the alpha value gets lower(towards negative -2ish) for highly correlated stocks"
      ]
    },
    {
      "cell_type": "code",
      "metadata": {
        "colab": {
          "base_uri": "https://localhost:8080/"
        },
        "id": "7wIufkV0m_Be",
        "outputId": "169184b9-6bc3-4121-9378-97f6e1f2351e"
      },
      "source": [
        "alpha"
      ],
      "execution_count": 23,
      "outputs": [
        {
          "output_type": "execute_result",
          "data": {
            "text/plain": [
              "-1.3923953489303783e-05"
            ]
          },
          "metadata": {
            "tags": []
          },
          "execution_count": 23
        }
      ]
    },
    {
      "cell_type": "code",
      "metadata": {
        "colab": {
          "base_uri": "https://localhost:8080/"
        },
        "id": "s9p4uRE2nA02",
        "outputId": "fa1b5a91-cbda-4c35-d13c-ae0f038471ed"
      },
      "source": [
        "r_value"
      ],
      "execution_count": 24,
      "outputs": [
        {
          "output_type": "execute_result",
          "data": {
            "text/plain": [
              "0.7542545012078514"
            ]
          },
          "metadata": {
            "tags": []
          },
          "execution_count": 24
        }
      ]
    },
    {
      "cell_type": "markdown",
      "metadata": {
        "id": "H1K9pefsr4yT"
      },
      "source": [
        "Introducing fake noise in the SPY data and comparing it with original SPY data to show the behaviour of highly correlated stocks"
      ]
    },
    {
      "cell_type": "code",
      "metadata": {
        "id": "kIlLQm2XnX0L"
      },
      "source": [
        "noise = np.random.normal(0,0.001, len(spy_etf['Daily Return'].iloc[1:]))"
      ],
      "execution_count": 31,
      "outputs": []
    },
    {
      "cell_type": "code",
      "metadata": {
        "colab": {
          "base_uri": "https://localhost:8080/"
        },
        "id": "17DCWpftnksH",
        "outputId": "5f827d29-4b91-416a-ffc5-a97c82746c23"
      },
      "source": [
        "noise"
      ],
      "execution_count": 27,
      "outputs": [
        {
          "output_type": "execute_result",
          "data": {
            "text/plain": [
              "array([ 0.00024313, -0.00130966, -0.00051168, ...,  0.00047961,\n",
              "        0.00027256, -0.00074264])"
            ]
          },
          "metadata": {
            "tags": []
          },
          "execution_count": 27
        }
      ]
    },
    {
      "cell_type": "code",
      "metadata": {
        "id": "hLbS2rdpnmIS"
      },
      "source": [
        "fake_stock = spy_etf['Daily Return'].iloc[1:] + noise"
      ],
      "execution_count": 32,
      "outputs": []
    },
    {
      "cell_type": "code",
      "metadata": {
        "colab": {
          "base_uri": "https://localhost:8080/",
          "height": 285
        },
        "id": "m6EuBZyMnw-h",
        "outputId": "bd547556-888b-425b-9726-b3ec6c34f1c9"
      },
      "source": [
        "plt.scatter(spy_etf['Daily Return'].iloc[1:], fake_stock,alpha=0.25)"
      ],
      "execution_count": 34,
      "outputs": [
        {
          "output_type": "execute_result",
          "data": {
            "text/plain": [
              "<matplotlib.collections.PathCollection at 0x7f45d6552ed0>"
            ]
          },
          "metadata": {
            "tags": []
          },
          "execution_count": 34
        },
        {
          "output_type": "display_data",
          "data": {
            "image/png": "[encoded data removed]",
            "text/plain": [
              "<Figure size 432x288 with 1 Axes>"
            ]
          },
          "metadata": {
            "tags": [],
            "needs_background": "light"
          }
        }
      ]
    },
    {
      "cell_type": "code",
      "metadata": {
        "id": "mvWY5m5loQpn"
      },
      "source": [
        "beta, alpha, r_value, p_value, std_err = stats.linregress(fake_stock, spy_etf['Daily Return'].iloc[1:])"
      ],
      "execution_count": 35,
      "outputs": []
    },
    {
      "cell_type": "code",
      "metadata": {
        "colab": {
          "base_uri": "https://localhost:8080/"
        },
        "id": "TXe5Gz90oUWt",
        "outputId": "f2923bfa-cc42-4c7e-b831-c1f48e4c2c58"
      },
      "source": [
        "beta"
      ],
      "execution_count": 36,
      "outputs": [
        {
          "output_type": "execute_result",
          "data": {
            "text/plain": [
              "0.9928710089760838"
            ]
          },
          "metadata": {
            "tags": []
          },
          "execution_count": 36
        }
      ]
    },
    {
      "cell_type": "code",
      "metadata": {
        "colab": {
          "base_uri": "https://localhost:8080/"
        },
        "id": "tJFy_QS9oWqA",
        "outputId": "3ed7c86d-1f96-49de-d8f5-498393a21cf7"
      },
      "source": [
        "alpha"
      ],
      "execution_count": 37,
      "outputs": [
        {
          "output_type": "execute_result",
          "data": {
            "text/plain": [
              "-2.1366359430637148e-05"
            ]
          },
          "metadata": {
            "tags": []
          },
          "execution_count": 37
        }
      ]
    }
  ]
}